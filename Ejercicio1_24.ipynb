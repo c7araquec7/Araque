{
  "cells": [
    {
      "cell_type": "markdown",
      "metadata": {
        "id": "view-in-github",
        "colab_type": "text"
      },
      "source": [
        "<a href=\"https://colab.research.google.com/github/c7araquec7/Araque/blob/main/Ejercicio1_24.ipynb\" target=\"_parent\"><img src=\"https://colab.research.google.com/assets/colab-badge.svg\" alt=\"Open In Colab\"/></a>"
      ]
    },
    {
      "cell_type": "markdown",
      "id": "6bae65f4",
      "metadata": {
        "id": "6bae65f4"
      },
      "source": [
        "# Taller básico pandas - numpy"
      ]
    },
    {
      "cell_type": "code",
      "execution_count": null,
      "id": "bc1e240c",
      "metadata": {
        "id": "bc1e240c"
      },
      "outputs": [],
      "source": [
        "import pandas as pd"
      ]
    },
    {
      "cell_type": "code",
      "execution_count": null,
      "id": "fe3e3cc4",
      "metadata": {
        "id": "fe3e3cc4"
      },
      "outputs": [],
      "source": [
        "# Crear un dataframe que tenga 3 registros(filas) cada una debe contener el nombre de una cancion, el artista que la canta, y la duracion en segundos\n"
      ]
    },
    {
      "cell_type": "code",
      "execution_count": null,
      "id": "38d4ed46",
      "metadata": {
        "id": "38d4ed46"
      },
      "outputs": [],
      "source": [
        "# Imprimir la cola del dataframe\n"
      ]
    },
    {
      "cell_type": "code",
      "execution_count": null,
      "id": "79ccb7d9",
      "metadata": {
        "id": "79ccb7d9"
      },
      "outputs": [],
      "source": [
        "# Acceder a la columna duracion\n"
      ]
    },
    {
      "cell_type": "code",
      "execution_count": null,
      "id": "0a3732eb",
      "metadata": {
        "id": "0a3732eb"
      },
      "outputs": [],
      "source": [
        "# Calcular el promedio de las duraciones\n"
      ]
    },
    {
      "cell_type": "code",
      "execution_count": null,
      "id": "bf77fe95",
      "metadata": {
        "id": "bf77fe95"
      },
      "outputs": [],
      "source": [
        "# Obtener los nombres de las canciones que tengan duracion mayor que el promedio\n"
      ]
    },
    {
      "cell_type": "code",
      "execution_count": null,
      "id": "c4998539",
      "metadata": {
        "id": "c4998539"
      },
      "outputs": [],
      "source": [
        "# Agregar una columna al dataframe que contenga True si la duracion es mayor que 3 minutos\n",
        "# y false si es menor\n"
      ]
    },
    {
      "cell_type": "code",
      "execution_count": null,
      "id": "baa74c25",
      "metadata": {
        "id": "baa74c25"
      },
      "outputs": [],
      "source": [
        "# Convertir el dataframe a numpy array\n"
      ]
    },
    {
      "cell_type": "code",
      "execution_count": null,
      "id": "77697675",
      "metadata": {
        "id": "77697675"
      },
      "outputs": [],
      "source": [
        "# Imprimir el shape del array\n"
      ]
    },
    {
      "cell_type": "code",
      "execution_count": null,
      "id": "3caa5fa1",
      "metadata": {
        "id": "3caa5fa1"
      },
      "outputs": [],
      "source": [
        "# Hacer un reshape para convertir el arreglo de 3x3 a un arreglo de 12 elementos\n"
      ]
    }
  ],
  "metadata": {
    "kernelspec": {
      "display_name": "entornomp",
      "language": "python",
      "name": "entornomp"
    },
    "language_info": {
      "codemirror_mode": {
        "name": "ipython",
        "version": 3
      },
      "file_extension": ".py",
      "mimetype": "text/x-python",
      "name": "python",
      "nbconvert_exporter": "python",
      "pygments_lexer": "ipython3",
      "version": "3.7.10"
    },
    "colab": {
      "provenance": [],
      "include_colab_link": true
    }
  },
  "nbformat": 4,
  "nbformat_minor": 5
}