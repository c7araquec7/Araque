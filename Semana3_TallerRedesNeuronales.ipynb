{
  "nbformat": 4,
  "nbformat_minor": 5,
  "metadata": {
    "kernelspec": {
      "display_name": "entornomp",
      "language": "python",
      "name": "entornomp"
    },
    "language_info": {
      "codemirror_mode": {
        "name": "ipython",
        "version": 3
      },
      "file_extension": ".py",
      "mimetype": "text/x-python",
      "name": "python",
      "nbconvert_exporter": "python",
      "pygments_lexer": "ipython3",
      "version": "3.7.10"
    },
    "colab": {
      "provenance": [],
      "include_colab_link": true
    }
  },
  "cells": [
    {
      "cell_type": "markdown",
      "metadata": {
        "id": "view-in-github",
        "colab_type": "text"
      },
      "source": [
        "<a href=\"https://colab.research.google.com/github/c7araquec7/Araque/blob/main/Semana3_TallerRedesNeuronales.ipynb\" target=\"_parent\"><img src=\"https://colab.research.google.com/assets/colab-badge.svg\" alt=\"Open In Colab\"/></a>"
      ]
    },
    {
      "cell_type": "markdown",
      "metadata": {
        "id": "c92b3025"
      },
      "source": [
        "# MODELOS PREDICTIVOS PARA SISTEMAS INTELIGENTES\n",
        "\n",
        "## Taller Bosques Aleatorios"
      ],
      "id": "c92b3025"
    },
    {
      "cell_type": "markdown",
      "metadata": {
        "id": "42628b3d"
      },
      "source": [
        "Usando el dataset heart.csv desarrollar un sistema de predicción que permita determinar si un paciente tiene una enfermedad cardíaca.\n",
        "\n",
        "El data set tiene las siguientes variables independientes:\n",
        "\n",
        "* age (edad)\n",
        "* sex (sexo)\n",
        "* chest pain type (tipo de dolor en el pecho)\n",
        "* resting blood pressure (presión arterial en reposo)\n",
        "* serum cholestoral in mg/dl (colesterol)\n",
        "* fasting blood sugar > 120 mg/dl (nivel de azucar en sangre en ayunas)\n",
        "* resting electrocardiographic results (values 0,1,2) (electrocardiograma en reposo)\n",
        "* maximum heart rate achieved (frecuencia cardíaca máxima)\n",
        "* exercise induced angina (angina provocada por ejercicio)\n",
        "* oldpeak = ST depression induced by exercise relative to rest\n",
        "* the slope of the peak exercise ST segment (depresión del ST inducida por el ejercicio respecto al reposo)\n",
        "* number of major vessels (0-3) colored by flourosopy (número de vasos principales coloreados)\n",
        "* thal: 0 = normal; 1 = fixed defect; 2 = reversable defect (talasemia detectada)\n",
        "\n",
        "La variable dependiente o target es:\n",
        "\n",
        "* Enfermedad cardíaca (valor = 0 NO, valor = 1 SI)\n",
        "\n",
        "Realizar el ajuste del modelo, usando el 80% de los datos en el entrenamiento y el 20% para test, además obtener el accuracy general del sistema de predicción.\n",
        "\n",
        "Guarde el modelo con extensión .h5"
      ],
      "id": "42628b3d"
    },
    {
      "cell_type": "code",
      "source": [],
      "metadata": {
        "id": "nMgaDS7LVr5V"
      },
      "id": "nMgaDS7LVr5V",
      "execution_count": null,
      "outputs": []
    }
  ]
}